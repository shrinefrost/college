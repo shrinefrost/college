{
 "cells": [
  {
   "cell_type": "code",
   "execution_count": 9,
   "id": "41559357",
   "metadata": {},
   "outputs": [
    {
     "name": "stdout",
     "output_type": "stream",
     "text": [
      "        1\n",
      "       121\n",
      "      12321\n",
      "     1234321\n",
      "    123454321\n",
      "   12345654321\n",
      "  1234567654321\n",
      " 123456787654321\n",
      "12345678987654321\n"
     ]
    }
   ],
   "source": [
    "# # 26. create a python program that generates a pyramind pattern of numbers such as\n",
    "# ***1\n",
    "# **121\n",
    "# *12321\n",
    "# 1234321\n",
    "\n",
    "number =9\n",
    "for i in range(1,number+1):\n",
    "    for j in range(number-i,0,-1):\n",
    "        print(\" \",end=\"\")\n",
    "    for j in range(1,i+1):\n",
    "        print(j,end=\"\")\n",
    "    for j in range(i-1,0,-1):\n",
    "        print(j,end=\"\")\n",
    "    print()\n",
    "        \n",
    "    "
   ]
  },
  {
   "cell_type": "code",
   "execution_count": 8,
   "id": "8db436fd",
   "metadata": {},
   "outputs": [
    {
     "name": "stdout",
     "output_type": "stream",
     "text": [
      "enter the number of rows:10\n",
      "\n",
      "A\n",
      "AB\n",
      "ABC\n",
      "ABCD\n",
      "ABCDE\n",
      "ABCDEF\n",
      "ABCDEFG\n",
      "ABCDEFGH\n",
      "ABCDEFGHI\n"
     ]
    }
   ],
   "source": [
    "# 30 write a python program to print the following character pattern using nested loops:\n",
    "# A\n",
    "# AB\n",
    "# ABC\n",
    "# ABCD\n",
    "\n",
    "temp =int(input(\"enter the number of rows:\"))\n",
    "for i in range(temp):\n",
    "    \n",
    "    for j in range(0,i):\n",
    "        print(f\"{chr(65 + j)}\",end=\"\")\n",
    "    \n",
    "    print()\n",
    "    \n"
   ]
  },
  {
   "cell_type": "code",
   "execution_count": 10,
   "id": "5847cfc7",
   "metadata": {},
   "outputs": [
    {
     "name": "stdout",
     "output_type": "stream",
     "text": [
      "oringal list is: [10, 20, 30.5, 60]\n",
      "list after removing is:  [10, 30.5, 60]\n",
      "list after adding is: [10, 30.5, 60, 1000]\n",
      "list after slicing the value is: [30.5, 60]\n"
     ]
    }
   ],
   "source": [
    "# list uses in python \n",
    "\n",
    "numbers = [10,20,30.50,60]\n",
    "print(\"oringal list is:\", numbers)\n",
    "\n",
    "numbers.remove(20)\n",
    "print(\"list after removing is: \",numbers)\n",
    "\n",
    "numbers.append(1000)\n",
    "print(\"list after adding is:\",numbers)\n",
    "\n",
    "print(\"list after slicing the value is:\",numbers[1:3])"
   ]
  },
  {
   "cell_type": "code",
   "execution_count": 11,
   "id": "37f8479b",
   "metadata": {},
   "outputs": [
    {
     "name": "stdout",
     "output_type": "stream",
     "text": [
      "oringal tuple is: (10, 20, 30.5, 60)\n",
      "accessing element from index 2 is:  30.5\n",
      "tuple after slicing the value is: (20, 30.5)\n",
      "counting number of occurance in tuple 1\n"
     ]
    }
   ],
   "source": [
    "# tuples uses in python \n",
    "\n",
    "numbers = (10,20,30.50,60)\n",
    "print(\"oringal tuple is:\", numbers)\n",
    "\n",
    "\n",
    "print(\"accessing element from index 2 is: \",numbers[2])\n",
    "\n",
    "print(\"tuple after slicing the value is:\",numbers[1:3])\n",
    "\n",
    "print(\"counting number of occurance in tuple\",numbers.count(10))"
   ]
  },
  {
   "cell_type": "code",
   "execution_count": 16,
   "id": "a7b200c9",
   "metadata": {},
   "outputs": [
    {
     "name": "stdout",
     "output_type": "stream",
     "text": [
      "enter element at index number 01\n",
      "enter element at index number 12\n",
      "enter element at index number 23\n",
      "enter element at index number 34\n",
      "enter element at index number 45\n",
      "enter element at index number 56\n",
      "enter element at index number 67\n",
      "enter element at index number 78\n",
      "enter element at index number 89\n",
      "enter element at index number 90\n",
      "[1, 2, 3, 4, 5, 6, 7, 8, 9, 0]\n"
     ]
    }
   ],
   "source": [
    "# 32. input a list of 10 numbers from the user and sort them in ascending order using the selection sort Bubble sort\n",
    "\n",
    "numbers =[]\n",
    "for i in range(10):\n",
    "    temp = int(input(f\"enter element at index number {i}\"))\n",
    "    numbers.append(temp)\n",
    "\n",
    "for i in range (10):\n",
    "    temp=numbers[i]\n",
    "    for j in range(i+1,10):\n",
    "        if(numbers[j]<temp):\n",
    "            temp = numbers[j]\n",
    "            index =j\n",
    "    "
   ]
  },
  {
   "cell_type": "code",
   "execution_count": null,
   "id": "fd687f85",
   "metadata": {},
   "outputs": [],
   "source": []
  }
 ],
 "metadata": {
  "kernelspec": {
   "display_name": "Python 3 (ipykernel)",
   "language": "python",
   "name": "python3"
  },
  "language_info": {
   "codemirror_mode": {
    "name": "ipython",
    "version": 3
   },
   "file_extension": ".py",
   "mimetype": "text/x-python",
   "name": "python",
   "nbconvert_exporter": "python",
   "pygments_lexer": "ipython3",
   "version": "3.11.4"
  }
 },
 "nbformat": 4,
 "nbformat_minor": 5
}
